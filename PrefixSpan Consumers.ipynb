{
 "cells": [
  {
   "cell_type": "code",
   "execution_count": 1,
   "metadata": {},
   "outputs": [],
   "source": [
    "import pandas as pd\n",
    "from ast import literal_eval"
   ]
  },
  {
   "cell_type": "code",
   "execution_count": 4,
   "metadata": {},
   "outputs": [
    {
     "data": {
      "text/html": [
       "<div>\n",
       "<style scoped>\n",
       "    .dataframe tbody tr th:only-of-type {\n",
       "        vertical-align: middle;\n",
       "    }\n",
       "\n",
       "    .dataframe tbody tr th {\n",
       "        vertical-align: top;\n",
       "    }\n",
       "\n",
       "    .dataframe thead th {\n",
       "        text-align: right;\n",
       "    }\n",
       "</style>\n",
       "<table border=\"1\" class=\"dataframe\">\n",
       "  <thead>\n",
       "    <tr style=\"text-align: right;\">\n",
       "      <th></th>\n",
       "      <th>Clientes</th>\n",
       "      <th>Corpus</th>\n",
       "    </tr>\n",
       "  </thead>\n",
       "  <tbody>\n",
       "    <tr>\n",
       "      <th>0</th>\n",
       "      <td>+++g8j9k+5A=</td>\n",
       "      <td>[SA5, C20, SA77]</td>\n",
       "    </tr>\n",
       "    <tr>\n",
       "      <th>1</th>\n",
       "      <td>++/oQ9Lb9dI=</td>\n",
       "      <td>[SA52, C20, SA30]</td>\n",
       "    </tr>\n",
       "    <tr>\n",
       "      <th>2</th>\n",
       "      <td>++1XMtcwMec=</td>\n",
       "      <td>[SA16, C67, SA66]</td>\n",
       "    </tr>\n",
       "    <tr>\n",
       "      <th>3</th>\n",
       "      <td>++5u+heOZ8o=</td>\n",
       "      <td>[SA21, C20, SA49, C20, SA11]</td>\n",
       "    </tr>\n",
       "    <tr>\n",
       "      <th>4</th>\n",
       "      <td>++70ByX0a3Q=</td>\n",
       "      <td>[SA11, C20, SA10, C20, SA5, C20, SA21, C20, SA32]</td>\n",
       "    </tr>\n",
       "  </tbody>\n",
       "</table>\n",
       "</div>"
      ],
      "text/plain": [
       "       Clientes                                             Corpus\n",
       "0  +++g8j9k+5A=                                   [SA5, C20, SA77]\n",
       "1  ++/oQ9Lb9dI=                                  [SA52, C20, SA30]\n",
       "2  ++1XMtcwMec=                                  [SA16, C67, SA66]\n",
       "3  ++5u+heOZ8o=                       [SA21, C20, SA49, C20, SA11]\n",
       "4  ++70ByX0a3Q=  [SA11, C20, SA10, C20, SA5, C20, SA21, C20, SA32]"
      ]
     },
     "execution_count": 4,
     "metadata": {},
     "output_type": "execute_result"
    }
   ],
   "source": [
    "path='./datasets' \n",
    "#path_res='%s/p6_Corpus.csv' %(path)\n",
    "path_res='%s/p6_Corpus_reducido.csv' % (path)\n",
    "\n",
    "data = pd.read_csv(path_res, sep=\",\", header=0, converters={\"Corpus\": literal_eval})\n",
    "data.head()"
   ]
  },
  {
   "cell_type": "code",
   "execution_count": null,
   "metadata": {},
   "outputs": [],
   "source": [
    "client = list(data[\"Clientes\"])"
   ]
  },
  {
   "cell_type": "code",
   "execution_count": null,
   "metadata": {},
   "outputs": [],
   "source": [
    "corpus = list(data[\"Corpus\"])"
   ]
  },
  {
   "cell_type": "markdown",
   "metadata": {},
   "source": [
    "## Obtain all unique elements of sequences"
   ]
  },
  {
   "cell_type": "code",
   "execution_count": 8,
   "metadata": {},
   "outputs": [],
   "source": [
    "set_corpus = []\n",
    "for s  in corpus:\n",
    "    set_corpus += s\n",
    "set_corpus = list(set(set_corpus))\n",
    "set_corpus.sort()"
   ]
  },
  {
   "cell_type": "markdown",
   "metadata": {},
   "source": [
    "## Associate elements with number"
   ]
  },
  {
   "cell_type": "code",
   "execution_count": null,
   "metadata": {},
   "outputs": [],
   "source": [
    "dict_corpus = { set_corpus[i] : i for i in range(0, len(set_corpus) ) }\n",
    "dict_corpus"
   ]
  },
  {
   "cell_type": "markdown",
   "metadata": {},
   "source": [
    "## Convert literal elements of sequences in number"
   ]
  },
  {
   "cell_type": "code",
   "execution_count": null,
   "metadata": {},
   "outputs": [],
   "source": [
    "corpus2 = []\n",
    "for s in corpus:\n",
    "    r=[]\n",
    "    for s2 in s:\n",
    "        r.append(dict_corpus[s2])\n",
    "    corpus2.append(r)\n",
    "corpus2"
   ]
  },
  {
   "cell_type": "markdown",
   "metadata": {},
   "source": [
    "## Convert List Format to SPMF format"
   ]
  },
  {
   "cell_type": "code",
   "execution_count": null,
   "metadata": {},
   "outputs": [],
   "source": [
    "corpus3 = []\n",
    "for s in corpus2:\n",
    "    str_s = \"\"\n",
    "    for s2 in s:\n",
    "        str_s += str(s2)\n",
    "        str_s += \" -1 \"\n",
    "    str_s += \"-2 \\n\"\n",
    "    corpus3.append(str_s)\n",
    "corpus3    "
   ]
  },
  {
   "cell_type": "code",
   "execution_count": null,
   "metadata": {},
   "outputs": [],
   "source": [
    "import copper.prefixspan as ps\n",
    "import copper.fileprocessor as fp"
   ]
  },
  {
   "cell_type": "code",
   "execution_count": null,
   "metadata": {},
   "outputs": [],
   "source": [
    "formatfile = 'spmf'\n",
    "options = {'threshold' : 20000, 'format': formatfile}"
   ]
  },
  {
   "cell_type": "markdown",
   "metadata": {},
   "source": [
    "## Read Database"
   ]
  },
  {
   "cell_type": "code",
   "execution_count": null,
   "metadata": {},
   "outputs": [],
   "source": [
    "s_db = fp.readDB(corpus3, options)\n",
    "s_db"
   ]
  },
  {
   "cell_type": "markdown",
   "metadata": {},
   "source": [
    "## Analyse the sequences with PrefixSpan"
   ]
  },
  {
   "cell_type": "code",
   "execution_count": null,
   "metadata": {},
   "outputs": [],
   "source": [
    "res = ps.prefixspan(s_db, options)\n",
    "print(len(res))"
   ]
  },
  {
   "cell_type": "code",
   "execution_count": null,
   "metadata": {},
   "outputs": [],
   "source": [
    "for pat in sorted(res, key=lambda x: x[1]):\n",
    "        print(str(pat)+'\\n')"
   ]
  },
  {
   "cell_type": "markdown",
   "metadata": {},
   "source": [
    "## Convert patterns in strings"
   ]
  },
  {
   "cell_type": "code",
   "execution_count": null,
   "metadata": {},
   "outputs": [],
   "source": [
    "res2 = res\n",
    "for i in range(len(res)):\n",
    "    res2[i][0] = str(res2[i][0])\n",
    "res2    "
   ]
  },
  {
   "cell_type": "markdown",
   "metadata": {},
   "source": [
    "## Parse Patterns to obtain a list"
   ]
  },
  {
   "cell_type": "code",
   "execution_count": null,
   "metadata": {},
   "outputs": [],
   "source": [
    "corpus4 = []\n",
    "for r  in res2:\n",
    "    pat = []\n",
    "    for c in r[0]:\n",
    "        \n",
    "        if c!='<'and c!='>':\n",
    "            num += c\n",
    "            \n",
    "        if c == '>':\n",
    "            pat.append(num)\n",
    "            num = ''\n",
    "            \n",
    "    corpus4.append([pat, r[1]])\n",
    "    \n",
    "corpus4"
   ]
  },
  {
   "cell_type": "markdown",
   "metadata": {},
   "source": [
    "## Asociate number with element"
   ]
  },
  {
   "cell_type": "code",
   "execution_count": null,
   "metadata": {},
   "outputs": [],
   "source": [
    "inv_dict_corpus = { str(i): set_corpus[i] for i in range(0, len(set_corpus) ) }\n",
    "inv_dict_corpus"
   ]
  },
  {
   "cell_type": "markdown",
   "metadata": {},
   "source": [
    "## Convert number to literal elements"
   ]
  },
  {
   "cell_type": "code",
   "execution_count": null,
   "metadata": {},
   "outputs": [],
   "source": [
    "corpus5 = []\n",
    "for s in corpus4:\n",
    "    cr=[]\n",
    "    r = []\n",
    "    for s2 in s[0]:\n",
    "        cr.append(inv_dict_corpus[s2])\n",
    "    r.append(cr)\n",
    "    r.append(s[1])\n",
    "    corpus5.append(r)\n",
    "corpus5"
   ]
  },
  {
   "cell_type": "code",
   "execution_count": null,
   "metadata": {},
   "outputs": [],
   "source": []
  }
 ],
 "metadata": {
  "kernelspec": {
   "display_name": "Python 2",
   "language": "python",
   "name": "python2"
  },
  "language_info": {
   "codemirror_mode": {
    "name": "ipython",
    "version": 2
   },
   "file_extension": ".py",
   "mimetype": "text/x-python",
   "name": "python",
   "nbconvert_exporter": "python",
   "pygments_lexer": "ipython2",
   "version": "2.7.15+"
  }
 },
 "nbformat": 4,
 "nbformat_minor": 2
}
