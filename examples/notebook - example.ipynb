{
 "cells": [
  {
   "cell_type": "markdown",
   "metadata": {},
   "source": [
    "# Example to use"
   ]
  },
  {
   "cell_type": "code",
   "execution_count": 1,
   "metadata": {},
   "outputs": [],
   "source": [
    "import pandas as pd\n",
    "from ast import literal_eval"
   ]
  },
  {
   "cell_type": "markdown",
   "metadata": {},
   "source": [
    "## First Read a data file, in my case in csv format"
   ]
  },
  {
   "cell_type": "code",
   "execution_count": 2,
   "metadata": {},
   "outputs": [],
   "source": [
    "path = './datasets'\n",
    "path_res = '%s/pei_dataset_modif.csv' %(path)\n",
    "data = pd.read_csv(path_res, sep=\",\", header=0,\n",
    "                   converters={\"sequence\": literal_eval})"
   ]
  },
  {
   "cell_type": "markdown",
   "metadata": {},
   "source": [
    "## Separate a data to extract the sequences"
   ]
  },
  {
   "cell_type": "code",
   "execution_count": 3,
   "metadata": {},
   "outputs": [],
   "source": [
    "sids = list(data[\"sid\"])\n",
    "sequences = list(data[\"sequence\"])"
   ]
  },
  {
   "cell_type": "markdown",
   "metadata": {},
   "source": [
    "## Set a configuration options"
   ]
  },
  {
   "cell_type": "code",
   "execution_count": 4,
   "metadata": {},
   "outputs": [],
   "source": [
    "items_separated = False\n",
    "#threshold = 0.2 \n",
    "threshold = 2\n",
    "options = {'threshold': threshold, 'itemsSeparated': items_separated}"
   ]
  },
  {
   "cell_type": "markdown",
   "metadata": {},
   "source": [
    "## Run algorithm and get result file"
   ]
  },
  {
   "cell_type": "code",
   "execution_count": 5,
   "metadata": {},
   "outputs": [
    {
     "data": {
      "text/plain": [
       "[[['a'], 4, 1.0],\n",
       " [[['a', 'b']], 2, 0.5],\n",
       " [[['a', 'b'], 'c'], 2, 0.5],\n",
       " [[['a', 'b'], 'd'], 2, 0.5],\n",
       " [[['a', 'b'], 'd', 'c'], 2, 0.5],\n",
       " [[['a', 'b'], 'f'], 2, 0.5],\n",
       " [['a', 'a'], 2, 0.5],\n",
       " [['a', 'b'], 4, 1.0],\n",
       " [['a', ['b', 'c']], 2, 0.5],\n",
       " [['a', ['b', 'c'], 'a'], 2, 0.5],\n",
       " [['a', 'b', 'a'], 2, 0.5],\n",
       " [['a', 'b', 'c'], 2, 0.5],\n",
       " [['a', 'c'], 4, 1.0],\n",
       " [['a', 'c', 'a'], 2, 0.5],\n",
       " [['a', 'c', 'b'], 3, 0.75],\n",
       " [['a', 'c', 'c'], 3, 0.75],\n",
       " [['a', 'd'], 2, 0.5],\n",
       " [['a', 'd', 'c'], 2, 0.5],\n",
       " [['a', 'f'], 2, 0.5],\n",
       " [['b'], 4, 1.0],\n",
       " [[['b', 'c']], 2, 0.5],\n",
       " [[['b', 'c'], 'a'], 2, 0.5],\n",
       " [['b', 'a'], 2, 0.5],\n",
       " [['b', 'c'], 3, 0.75],\n",
       " [['b', 'd'], 2, 0.5],\n",
       " [['b', 'd', 'c'], 2, 0.5],\n",
       " [['b', 'f'], 2, 0.5],\n",
       " [['c'], 4, 1.0],\n",
       " [['c', 'a'], 2, 0.5],\n",
       " [['c', 'b'], 3, 0.75],\n",
       " [['c', 'c'], 3, 0.75],\n",
       " [['d'], 3, 0.75],\n",
       " [['d', 'b'], 2, 0.5],\n",
       " [['d', 'c'], 3, 0.75],\n",
       " [['d', 'c', 'b'], 2, 0.5],\n",
       " [['e'], 3, 0.75],\n",
       " [['e', 'a'], 2, 0.5],\n",
       " [['e', 'a', 'b'], 2, 0.5],\n",
       " [['e', 'a', 'c'], 2, 0.5],\n",
       " [['e', 'a', 'c', 'b'], 2, 0.5],\n",
       " [['e', 'b'], 2, 0.5],\n",
       " [['e', 'b', 'c'], 2, 0.5],\n",
       " [['e', 'c'], 2, 0.5],\n",
       " [['e', 'c', 'b'], 2, 0.5],\n",
       " [['e', 'f'], 2, 0.5],\n",
       " [['e', 'f', 'b'], 2, 0.5],\n",
       " [['e', 'f', 'c'], 2, 0.5],\n",
       " [['e', 'f', 'c', 'b'], 2, 0.5],\n",
       " [['f'], 3, 0.75],\n",
       " [['f', 'b'], 2, 0.5],\n",
       " [['f', 'b', 'c'], 2, 0.5],\n",
       " [['f', 'c'], 2, 0.5],\n",
       " [['f', 'c', 'b'], 2, 0.5]]"
      ]
     },
     "execution_count": 5,
     "metadata": {},
     "output_type": "execute_result"
    }
   ],
   "source": [
    "from copper import prefixspan as ps\n",
    "result_mining = ps.prefixspan(sequences, options)\n",
    "result_mining"
   ]
  },
  {
   "cell_type": "code",
   "execution_count": null,
   "metadata": {},
   "outputs": [],
   "source": []
  }
 ],
 "metadata": {
  "kernelspec": {
   "display_name": "Python 3",
   "language": "python",
   "name": "python3"
  },
  "language_info": {
   "codemirror_mode": {
    "name": "ipython",
    "version": 3
   },
   "file_extension": ".py",
   "mimetype": "text/x-python",
   "name": "python",
   "nbconvert_exporter": "python",
   "pygments_lexer": "ipython3",
   "version": "3.8.6"
  }
 },
 "nbformat": 4,
 "nbformat_minor": 2
}
